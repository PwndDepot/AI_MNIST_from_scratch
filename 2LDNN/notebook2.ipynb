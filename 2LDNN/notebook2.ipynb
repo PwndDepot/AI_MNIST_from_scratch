{
 "cells": [
  {
   "cell_type": "code",
   "execution_count": 12,
   "metadata": {},
   "outputs": [],
   "source": [
    "from __future__ import print_function\n",
    "import numpy as np\n",
    "from keras.datasets import mnist\n",
    "import matplotlib.pyplot as plt\n",
    "from sklearn.utils import shuffle\n",
    "from keras.utils import to_categorical\n",
    "from sklearn.metrics import mean_squared_error\n",
    "from sklearn.preprocessing import OneHotEncoder\n",
    "from ai_utils import ai_helpers\n",
    "\n",
    "np.random.seed(6)\n",
    "BATCH_SIZE = 4"
   ]
  },
  {
   "cell_type": "code",
   "execution_count": 13,
   "metadata": {},
   "outputs": [],
   "source": [
    "from __future__ import print_function\n",
    "import numpy as np\n",
    "from keras.datasets import mnist\n",
    "import matplotlib.pyplot as plt\n",
    "from sklearn.utils import shuffle\n",
    "from keras.utils import to_categorical\n",
    "from sklearn.metrics import mean_squared_error\n",
    "from sklearn.preprocessing import OneHotEncoder\n",
    "from ai_utils import ai_helpers\n",
    "\n",
    "np.random.seed(6)\n",
    "BATCH_SIZE = 4\n",
    "\n",
    "(X_train, Y_train), (x_test, y_test) = mnist.load_data(path='.\\\\data')\n",
    "X_train = X_train.astype('float32') / 255\n",
    "X_train, x_val = X_train[:-10000], X_train[-10000:]\n",
    "Y_train, y_val = Y_train[:-10000], Y_train[-10000:]\n",
    "\n",
    "X_train, Y_train = shuffle(X_train, Y_train)\n",
    "X_feed = X_train[BATCH_SIZE]\n",
    "y_feed = Y_train[BATCH_SIZE]\n",
    "\n",
    "Y_train = to_categorical(Y_train, num_classes=10)\n",
    "y_val = to_categorical(Y_train, num_classes=10)\n",
    "y_test = to_categorical(Y_train, num_classes=10)\n"
   ]
  },
  {
   "cell_type": "code",
   "execution_count": 15,
   "metadata": {},
   "outputs": [
    {
     "ename": "TypeError",
     "evalue": "%i format: a number is required, not numpy.ndarray",
     "output_type": "error",
     "traceback": [
      "\u001b[1;31m---------------------------------------------------------------------------\u001b[0m",
      "\u001b[1;31mTypeError\u001b[0m                                 Traceback (most recent call last)",
      "\u001b[1;32mc:\\Users\\travi\\Dropbox\\Notes\\School\\Artificial Neural Networks\\HW2_python_attempt\\2LDNN\\notebook2.ipynb Cell 3\u001b[0m line \u001b[0;36m5\n\u001b[0;32m      <a href='vscode-notebook-cell:/c%3A/Users/travi/Dropbox/Notes/School/Artificial%20Neural%20Networks/HW2_python_attempt/2LDNN/notebook2.ipynb#W2sZmlsZQ%3D%3D?line=2'>3</a>\u001b[0m \u001b[39mfor\u001b[39;00m i \u001b[39min\u001b[39;00m \u001b[39mrange\u001b[39m(\u001b[39m4\u001b[39m):\n\u001b[0;32m      <a href='vscode-notebook-cell:/c%3A/Users/travi/Dropbox/Notes/School/Artificial%20Neural%20Networks/HW2_python_attempt/2LDNN/notebook2.ipynb#W2sZmlsZQ%3D%3D?line=3'>4</a>\u001b[0m     plt\u001b[39m.\u001b[39msubplot(\u001b[39m2\u001b[39m,\u001b[39m2\u001b[39m,i\u001b[39m+\u001b[39m\u001b[39m1\u001b[39m)\n\u001b[1;32m----> <a href='vscode-notebook-cell:/c%3A/Users/travi/Dropbox/Notes/School/Artificial%20Neural%20Networks/HW2_python_attempt/2LDNN/notebook2.ipynb#W2sZmlsZQ%3D%3D?line=4'>5</a>\u001b[0m     plt\u001b[39m.\u001b[39mtitle(\u001b[39m\"\u001b[39;49m\u001b[39mLabel: \u001b[39;49m\u001b[39m%i\u001b[39;49;00m\u001b[39m\"\u001b[39;49m\u001b[39m%\u001b[39;49mY_train[i])\n\u001b[0;32m      <a href='vscode-notebook-cell:/c%3A/Users/travi/Dropbox/Notes/School/Artificial%20Neural%20Networks/HW2_python_attempt/2LDNN/notebook2.ipynb#W2sZmlsZQ%3D%3D?line=5'>6</a>\u001b[0m     plt\u001b[39m.\u001b[39mimshow(X_train[i]\u001b[39m.\u001b[39mreshape([\u001b[39m28\u001b[39m,\u001b[39m28\u001b[39m]),cmap\u001b[39m=\u001b[39m\u001b[39m'\u001b[39m\u001b[39mgray\u001b[39m\u001b[39m'\u001b[39m)\n\u001b[0;32m      <a href='vscode-notebook-cell:/c%3A/Users/travi/Dropbox/Notes/School/Artificial%20Neural%20Networks/HW2_python_attempt/2LDNN/notebook2.ipynb#W2sZmlsZQ%3D%3D?line=7'>8</a>\u001b[0m Y_train \u001b[39m=\u001b[39m to_categorical(Y_train, num_classes\u001b[39m=\u001b[39m\u001b[39m10\u001b[39m)\n",
      "\u001b[1;31mTypeError\u001b[0m: %i format: a number is required, not numpy.ndarray"
     ]
    },
    {
     "data": {
      "image/png": "[encoded data removed]",
      "text/plain": [
       "<Figure size 600x600 with 1 Axes>"
      ]
     },
     "metadata": {},
     "output_type": "display_data"
    }
   ],
   "source": [
    "## Let's look at some example\n",
    "plt.figure(figsize=[6,6])\n",
    "for i in range(4):\n",
    "    plt.subplot(2,2,i+1)\n",
    "    plt.title(\"Label: %i\"%Y_train[i])\n",
    "    plt.imshow(X_train[i].reshape([28,28]),cmap='gray')\n",
    "\n",
    "Y_train = to_categorical(Y_train, num_classes=10)\n",
    "y_val = to_categorical(Y_train, num_classes=10)\n",
    "y_test = to_categorical(Y_train, num_classes=10)\n"
   ]
  },
  {
   "cell_type": "code",
   "execution_count": 39,
   "metadata": {},
   "outputs": [
    {
     "ename": "ValueError",
     "evalue": "operands could not be broadcast together with shapes (10,4) (128,4) ",
     "output_type": "error",
     "traceback": [
      "\u001b[1;31m---------------------------------------------------------------------------\u001b[0m",
      "\u001b[1;31mValueError\u001b[0m                                Traceback (most recent call last)",
      "\u001b[1;32mc:\\Users\\travi\\Dropbox\\Notes\\School\\Artificial Neural Networks\\HW2_python_attempt\\2LDNN\\notebook2.ipynb Cell 4\u001b[0m line \u001b[0;36m7\n\u001b[0;32m     <a href='vscode-notebook-cell:/c%3A/Users/travi/Dropbox/Notes/School/Artificial%20Neural%20Networks/HW2_python_attempt/2LDNN/notebook2.ipynb#W3sZmlsZQ%3D%3D?line=73'>74</a>\u001b[0m layer2 \u001b[39m=\u001b[39m Dense(\u001b[39m128\u001b[39m, \u001b[39m10\u001b[39m)\n\u001b[0;32m     <a href='vscode-notebook-cell:/c%3A/Users/travi/Dropbox/Notes/School/Artificial%20Neural%20Networks/HW2_python_attempt/2LDNN/notebook2.ipynb#W3sZmlsZQ%3D%3D?line=74'>75</a>\u001b[0m model \u001b[39m=\u001b[39m Model([layer1, layer2])\n\u001b[1;32m---> <a href='vscode-notebook-cell:/c%3A/Users/travi/Dropbox/Notes/School/Artificial%20Neural%20Networks/HW2_python_attempt/2LDNN/notebook2.ipynb#W3sZmlsZQ%3D%3D?line=75'>76</a>\u001b[0m model\u001b[39m.\u001b[39;49mtrain(X_train, Y_train, epochs\u001b[39m=\u001b[39;49m\u001b[39m20\u001b[39;49m)\n",
      "\u001b[1;32mc:\\Users\\travi\\Dropbox\\Notes\\School\\Artificial Neural Networks\\HW2_python_attempt\\2LDNN\\notebook2.ipynb Cell 4\u001b[0m line \u001b[0;36m6\n\u001b[0;32m     <a href='vscode-notebook-cell:/c%3A/Users/travi/Dropbox/Notes/School/Artificial%20Neural%20Networks/HW2_python_attempt/2LDNN/notebook2.ipynb#W3sZmlsZQ%3D%3D?line=64'>65</a>\u001b[0m     y_pred \u001b[39m=\u001b[39m model\u001b[39m.\u001b[39mforward_propagate(X_batch\u001b[39m.\u001b[39mT)\n\u001b[0;32m     <a href='vscode-notebook-cell:/c%3A/Users/travi/Dropbox/Notes/School/Artificial%20Neural%20Networks/HW2_python_attempt/2LDNN/notebook2.ipynb#W3sZmlsZQ%3D%3D?line=65'>66</a>\u001b[0m     loss, delta \u001b[39m=\u001b[39m \u001b[39mself\u001b[39m\u001b[39m.\u001b[39mcalculate_loss(Y_batch\u001b[39m.\u001b[39mT, y_pred)\n\u001b[1;32m---> <a href='vscode-notebook-cell:/c%3A/Users/travi/Dropbox/Notes/School/Artificial%20Neural%20Networks/HW2_python_attempt/2LDNN/notebook2.ipynb#W3sZmlsZQ%3D%3D?line=66'>67</a>\u001b[0m     \u001b[39mself\u001b[39;49m\u001b[39m.\u001b[39;49mbackward_propagate(delta)\n\u001b[0;32m     <a href='vscode-notebook-cell:/c%3A/Users/travi/Dropbox/Notes/School/Artificial%20Neural%20Networks/HW2_python_attempt/2LDNN/notebook2.ipynb#W3sZmlsZQ%3D%3D?line=67'>68</a>\u001b[0m     total_loss \u001b[39m+\u001b[39m\u001b[39m=\u001b[39m loss\n\u001b[0;32m     <a href='vscode-notebook-cell:/c%3A/Users/travi/Dropbox/Notes/School/Artificial%20Neural%20Networks/HW2_python_attempt/2LDNN/notebook2.ipynb#W3sZmlsZQ%3D%3D?line=69'>70</a>\u001b[0m \u001b[39mif\u001b[39;00m epoch \u001b[39m%\u001b[39m \u001b[39m10\u001b[39m \u001b[39m==\u001b[39m \u001b[39m0\u001b[39m:\n",
      "\u001b[1;32mc:\\Users\\travi\\Dropbox\\Notes\\School\\Artificial Neural Networks\\HW2_python_attempt\\2LDNN\\notebook2.ipynb Cell 4\u001b[0m line \u001b[0;36m5\n\u001b[0;32m     <a href='vscode-notebook-cell:/c%3A/Users/travi/Dropbox/Notes/School/Artificial%20Neural%20Networks/HW2_python_attempt/2LDNN/notebook2.ipynb#W3sZmlsZQ%3D%3D?line=53'>54</a>\u001b[0m \u001b[39mdef\u001b[39;00m \u001b[39mbackward_propagate\u001b[39m(\u001b[39mself\u001b[39m, delta):\n\u001b[0;32m     <a href='vscode-notebook-cell:/c%3A/Users/travi/Dropbox/Notes/School/Artificial%20Neural%20Networks/HW2_python_attempt/2LDNN/notebook2.ipynb#W3sZmlsZQ%3D%3D?line=54'>55</a>\u001b[0m     \u001b[39mfor\u001b[39;00m layer \u001b[39min\u001b[39;00m \u001b[39mreversed\u001b[39m(\u001b[39mself\u001b[39m\u001b[39m.\u001b[39mlayers):\n\u001b[1;32m---> <a href='vscode-notebook-cell:/c%3A/Users/travi/Dropbox/Notes/School/Artificial%20Neural%20Networks/HW2_python_attempt/2LDNN/notebook2.ipynb#W3sZmlsZQ%3D%3D?line=55'>56</a>\u001b[0m         delta \u001b[39m=\u001b[39m layer\u001b[39m.\u001b[39;49mbackward_propagate(delta)\n",
      "\u001b[1;32mc:\\Users\\travi\\Dropbox\\Notes\\School\\Artificial Neural Networks\\HW2_python_attempt\\2LDNN\\notebook2.ipynb Cell 4\u001b[0m line \u001b[0;36m1\n\u001b[0;32m     <a href='vscode-notebook-cell:/c%3A/Users/travi/Dropbox/Notes/School/Artificial%20Neural%20Networks/HW2_python_attempt/2LDNN/notebook2.ipynb#W3sZmlsZQ%3D%3D?line=16'>17</a>\u001b[0m \u001b[39mdef\u001b[39;00m \u001b[39mbackward_propagate\u001b[39m(\u001b[39mself\u001b[39m, output_error):\n\u001b[0;32m     <a href='vscode-notebook-cell:/c%3A/Users/travi/Dropbox/Notes/School/Artificial%20Neural%20Networks/HW2_python_attempt/2LDNN/notebook2.ipynb#W3sZmlsZQ%3D%3D?line=17'>18</a>\u001b[0m     d_relu \u001b[39m=\u001b[39m \u001b[39mself\u001b[39m\u001b[39m.\u001b[39md_relu(\u001b[39mself\u001b[39m\u001b[39m.\u001b[39minputs)\n\u001b[1;32m---> <a href='vscode-notebook-cell:/c%3A/Users/travi/Dropbox/Notes/School/Artificial%20Neural%20Networks/HW2_python_attempt/2LDNN/notebook2.ipynb#W3sZmlsZQ%3D%3D?line=18'>19</a>\u001b[0m     inputs_error \u001b[39m=\u001b[39m np\u001b[39m.\u001b[39mdot(output_error \u001b[39m*\u001b[39;49m d_relu, \u001b[39mself\u001b[39m\u001b[39m.\u001b[39mweights)\n\u001b[0;32m     <a href='vscode-notebook-cell:/c%3A/Users/travi/Dropbox/Notes/School/Artificial%20Neural%20Networks/HW2_python_attempt/2LDNN/notebook2.ipynb#W3sZmlsZQ%3D%3D?line=19'>20</a>\u001b[0m     \u001b[39mself\u001b[39m\u001b[39m.\u001b[39mweights \u001b[39m-\u001b[39m\u001b[39m=\u001b[39m np\u001b[39m.\u001b[39mdot(\u001b[39mself\u001b[39m\u001b[39m.\u001b[39minputs\u001b[39m.\u001b[39mT, output_error \u001b[39m*\u001b[39m d_relu) \u001b[39m*\u001b[39m \u001b[39mself\u001b[39m\u001b[39m.\u001b[39mlearning_rate\n\u001b[0;32m     <a href='vscode-notebook-cell:/c%3A/Users/travi/Dropbox/Notes/School/Artificial%20Neural%20Networks/HW2_python_attempt/2LDNN/notebook2.ipynb#W3sZmlsZQ%3D%3D?line=20'>21</a>\u001b[0m     \u001b[39mself\u001b[39m\u001b[39m.\u001b[39mbiases \u001b[39m-\u001b[39m\u001b[39m=\u001b[39m np\u001b[39m.\u001b[39msum(output_error \u001b[39m*\u001b[39m d_relu, axis\u001b[39m=\u001b[39m\u001b[39m0\u001b[39m) \u001b[39m*\u001b[39m \u001b[39mself\u001b[39m\u001b[39m.\u001b[39mlearning_rate\n",
      "\u001b[1;31mValueError\u001b[0m: operands could not be broadcast together with shapes (10,4) (128,4) "
     ]
    }
   ],
   "source": [
    "import numpy as np\n",
    "from keras.datasets import mnist\n",
    "from keras.utils import to_categorical\n",
    "from sklearn.utils import shuffle\n",
    "\n",
    "class Dense:\n",
    "    def __init__(self, input_size, output_size, learning_rate=0.1):\n",
    "        self.weights = np.random.randn(output_size, input_size)\n",
    "        self.biases = np.zeros((output_size, 1))\n",
    "        self.learning_rate = learning_rate\n",
    "\n",
    "    def forward_propagate(self, inputs):\n",
    "        self.inputs = inputs\n",
    "        output = np.dot(self.weights, inputs) + self.biases\n",
    "        return self.relu(output)\n",
    "\n",
    "    def backward_propagate(self, output_error):\n",
    "        d_relu = self.d_relu(self.inputs)\n",
    "        inputs_error = np.dot(output_error * d_relu, self.weights)\n",
    "        self.weights -= np.dot(self.inputs.T, output_error * d_relu) * self.learning_rate\n",
    "        self.biases -= np.sum(output_error * d_relu, axis=0) * self.learning_rate\n",
    "        return inputs_error\n",
    "\n",
    "    def relu(self, x):\n",
    "        return np.maximum(0, x)\n",
    "\n",
    "    def d_relu(self, x):\n",
    "        return (x > 0).astype(float)\n",
    "\n",
    "def mse_loss(y_true, y_pred):\n",
    "    diff = y_true - y_pred\n",
    "    return np.mean(diff**2), diff\n",
    "\n",
    "(np.random.seed(6))\n",
    "BATCH_SIZE = 4\n",
    "(X_train, Y_train), (X_test, Y_test) = mnist.load_data()\n",
    "X_train, X_test = X_train / 255.0, X_test / 255.0  # normalize data\n",
    "Y_train, Y_test = to_categorical(Y_train), to_categorical(Y_test)  # one-hot encoding\n",
    "X_train, X_test = X_train.reshape((-1, 784)), X_test.reshape((-1, 784))  # flatten data\n",
    "\n",
    "class Model():  \n",
    "    def __init__(self, layers):\n",
    "        self.layers = layers\n",
    "  \n",
    "    def forward_propagate(self, inputs):\n",
    "        for layer in self.layers:\n",
    "            inputs = layer.forward_propagate(inputs)\n",
    "        return inputs\n",
    "\n",
    "    def calculate_loss(self, y_true, y_pred):\n",
    "        loss, delta = mse_loss(y_true, y_pred)\n",
    "        return loss, delta\n",
    "\n",
    "    def backward_propagate(self, delta):\n",
    "        for layer in reversed(self.layers):\n",
    "            delta = layer.backward_propagate(delta)\n",
    "\n",
    "    def train(self, X_train, Y_train, epochs=20):\n",
    "        for epoch in range(epochs):\n",
    "            total_loss = 0\n",
    "            shuffle_idx = np.random.permutation(len(X_train))\n",
    "            for i in shuffle_idx:\n",
    "                X_batch = X_train[i:i + BATCH_SIZE]\n",
    "                Y_batch = Y_train[i:i + BATCH_SIZE]\n",
    "                y_pred = model.forward_propagate(X_batch.T)\n",
    "                loss, delta = self.calculate_loss(Y_batch.T, y_pred)\n",
    "                self.backward_propagate(delta)\n",
    "                total_loss += loss\n",
    "            \n",
    "            if epoch % 10 == 0:\n",
    "                print(\"Epoch\", epoch + 1, \"out of\", epochs, \"loss:\", total_loss / len(X_train))\n",
    "\n",
    "layer1 = Dense(784, 128)\n",
    "layer2 = Dense(128, 10)\n",
    "model = Model([layer1, layer2])\n",
    "model.train(X_train, Y_train, epochs=20)\n"
   ]
  },
  {
   "cell_type": "code",
   "execution_count": 18,
   "metadata": {},
   "outputs": [
    {
     "ename": "ValueError",
     "evalue": "shapes (28,28) and (784,64) not aligned: 28 (dim 1) != 784 (dim 0)",
     "output_type": "error",
     "traceback": [
      "\u001b[1;31m---------------------------------------------------------------------------\u001b[0m",
      "\u001b[1;31mValueError\u001b[0m                                Traceback (most recent call last)",
      "\u001b[1;32mc:\\Users\\travi\\Dropbox\\Notes\\School\\Artificial Neural Networks\\HW2_python_attempt\\2LDNN\\notebook2.ipynb Cell 5\u001b[0m line \u001b[0;36m9\n\u001b[0;32m      <a href='vscode-notebook-cell:/c%3A/Users/travi/Dropbox/Notes/School/Artificial%20Neural%20Networks/HW2_python_attempt/2LDNN/notebook2.ipynb#W4sZmlsZQ%3D%3D?line=4'>5</a>\u001b[0m layers \u001b[39m=\u001b[39m [Dense(input_size\u001b[39m=\u001b[39minput_size, output_size\u001b[39m=\u001b[39mhidden_size, activation_function\u001b[39m=\u001b[39mai_helpers\u001b[39m.\u001b[39mActivationFunctions\u001b[39m.\u001b[39mrelu), \n\u001b[0;32m      <a href='vscode-notebook-cell:/c%3A/Users/travi/Dropbox/Notes/School/Artificial%20Neural%20Networks/HW2_python_attempt/2LDNN/notebook2.ipynb#W4sZmlsZQ%3D%3D?line=5'>6</a>\u001b[0m            Dense(input_size\u001b[39m=\u001b[39mhidden_size, output_size\u001b[39m=\u001b[39moutput_size, activation_function\u001b[39m=\u001b[39mai_helpers\u001b[39m.\u001b[39mActivationFunctions\u001b[39m.\u001b[39msoftmax)]\n\u001b[0;32m      <a href='vscode-notebook-cell:/c%3A/Users/travi/Dropbox/Notes/School/Artificial%20Neural%20Networks/HW2_python_attempt/2LDNN/notebook2.ipynb#W4sZmlsZQ%3D%3D?line=7'>8</a>\u001b[0m model \u001b[39m=\u001b[39m Model(input_size, hidden_size, output_size, layers)\n\u001b[1;32m----> <a href='vscode-notebook-cell:/c%3A/Users/travi/Dropbox/Notes/School/Artificial%20Neural%20Networks/HW2_python_attempt/2LDNN/notebook2.ipynb#W4sZmlsZQ%3D%3D?line=8'>9</a>\u001b[0m model\u001b[39m.\u001b[39;49mtrain(X_train, Y_train, epochs\u001b[39m=\u001b[39;49m\u001b[39m10\u001b[39;49m)\n",
      "\u001b[1;32mc:\\Users\\travi\\Dropbox\\Notes\\School\\Artificial Neural Networks\\HW2_python_attempt\\2LDNN\\notebook2.ipynb Cell 5\u001b[0m line \u001b[0;36m3\n\u001b[0;32m     <a href='vscode-notebook-cell:/c%3A/Users/travi/Dropbox/Notes/School/Artificial%20Neural%20Networks/HW2_python_attempt/2LDNN/notebook2.ipynb#W4sZmlsZQ%3D%3D?line=27'>28</a>\u001b[0m total_predictions \u001b[39m=\u001b[39m \u001b[39m0\u001b[39m\n\u001b[0;32m     <a href='vscode-notebook-cell:/c%3A/Users/travi/Dropbox/Notes/School/Artificial%20Neural%20Networks/HW2_python_attempt/2LDNN/notebook2.ipynb#W4sZmlsZQ%3D%3D?line=28'>29</a>\u001b[0m \u001b[39mfor\u001b[39;00m x, y \u001b[39min\u001b[39;00m \u001b[39mzip\u001b[39m(images, labels):\n\u001b[1;32m---> <a href='vscode-notebook-cell:/c%3A/Users/travi/Dropbox/Notes/School/Artificial%20Neural%20Networks/HW2_python_attempt/2LDNN/notebook2.ipynb#W4sZmlsZQ%3D%3D?line=29'>30</a>\u001b[0m     y_pred \u001b[39m=\u001b[39m \u001b[39mself\u001b[39;49m\u001b[39m.\u001b[39;49mforward_propagate(x)\n\u001b[0;32m     <a href='vscode-notebook-cell:/c%3A/Users/travi/Dropbox/Notes/School/Artificial%20Neural%20Networks/HW2_python_attempt/2LDNN/notebook2.ipynb#W4sZmlsZQ%3D%3D?line=31'>32</a>\u001b[0m     loss \u001b[39m=\u001b[39m ai_helpers\u001b[39m.\u001b[39mLossFunctions\u001b[39m.\u001b[39mmse_loss(y, y_pred)\n\u001b[0;32m     <a href='vscode-notebook-cell:/c%3A/Users/travi/Dropbox/Notes/School/Artificial%20Neural%20Networks/HW2_python_attempt/2LDNN/notebook2.ipynb#W4sZmlsZQ%3D%3D?line=32'>33</a>\u001b[0m     total_loss \u001b[39m+\u001b[39m\u001b[39m=\u001b[39m loss\n",
      "\u001b[1;32mc:\\Users\\travi\\Dropbox\\Notes\\School\\Artificial Neural Networks\\HW2_python_attempt\\2LDNN\\notebook2.ipynb Cell 5\u001b[0m line \u001b[0;36m1\n\u001b[0;32m     <a href='vscode-notebook-cell:/c%3A/Users/travi/Dropbox/Notes/School/Artificial%20Neural%20Networks/HW2_python_attempt/2LDNN/notebook2.ipynb#W4sZmlsZQ%3D%3D?line=12'>13</a>\u001b[0m \u001b[39mdef\u001b[39;00m \u001b[39mforward_propagate\u001b[39m(\u001b[39mself\u001b[39m, input_data):\n\u001b[1;32m---> <a href='vscode-notebook-cell:/c%3A/Users/travi/Dropbox/Notes/School/Artificial%20Neural%20Networks/HW2_python_attempt/2LDNN/notebook2.ipynb#W4sZmlsZQ%3D%3D?line=13'>14</a>\u001b[0m     \u001b[39mself\u001b[39m\u001b[39m.\u001b[39ma1 \u001b[39m=\u001b[39m \u001b[39mself\u001b[39;49m\u001b[39m.\u001b[39;49mlayers[\u001b[39m0\u001b[39;49m]\u001b[39m.\u001b[39;49mforward_propagate(input_data)\n\u001b[0;32m     <a href='vscode-notebook-cell:/c%3A/Users/travi/Dropbox/Notes/School/Artificial%20Neural%20Networks/HW2_python_attempt/2LDNN/notebook2.ipynb#W4sZmlsZQ%3D%3D?line=14'>15</a>\u001b[0m     \u001b[39mself\u001b[39m\u001b[39m.\u001b[39ma2 \u001b[39m=\u001b[39m \u001b[39mself\u001b[39m\u001b[39m.\u001b[39mlayers[\u001b[39m1\u001b[39m]\u001b[39m.\u001b[39mforward_propagate(\u001b[39mself\u001b[39m\u001b[39m.\u001b[39ma1)\n\u001b[0;32m     <a href='vscode-notebook-cell:/c%3A/Users/travi/Dropbox/Notes/School/Artificial%20Neural%20Networks/HW2_python_attempt/2LDNN/notebook2.ipynb#W4sZmlsZQ%3D%3D?line=15'>16</a>\u001b[0m     \u001b[39mreturn\u001b[39;00m \u001b[39mself\u001b[39m\u001b[39m.\u001b[39ma2\n",
      "\u001b[1;32mc:\\Users\\travi\\Dropbox\\Notes\\School\\Artificial Neural Networks\\HW2_python_attempt\\2LDNN\\notebook2.ipynb Cell 5\u001b[0m line \u001b[0;36m6\n\u001b[0;32m     <a href='vscode-notebook-cell:/c%3A/Users/travi/Dropbox/Notes/School/Artificial%20Neural%20Networks/HW2_python_attempt/2LDNN/notebook2.ipynb#W4sZmlsZQ%3D%3D?line=59'>60</a>\u001b[0m \u001b[39mdef\u001b[39;00m \u001b[39mforward_propagate\u001b[39m(\u001b[39mself\u001b[39m, input_data):\n\u001b[1;32m---> <a href='vscode-notebook-cell:/c%3A/Users/travi/Dropbox/Notes/School/Artificial%20Neural%20Networks/HW2_python_attempt/2LDNN/notebook2.ipynb#W4sZmlsZQ%3D%3D?line=61'>62</a>\u001b[0m     \u001b[39mreturn\u001b[39;00m np\u001b[39m.\u001b[39;49mdot(input_data, \u001b[39mself\u001b[39;49m\u001b[39m.\u001b[39;49mweights\u001b[39m.\u001b[39;49mT) \u001b[39m+\u001b[39m \u001b[39mself\u001b[39m\u001b[39m.\u001b[39mbiases\n",
      "File \u001b[1;32m<__array_function__ internals>:200\u001b[0m, in \u001b[0;36mdot\u001b[1;34m(*args, **kwargs)\u001b[0m\n",
      "\u001b[1;31mValueError\u001b[0m: shapes (28,28) and (784,64) not aligned: 28 (dim 1) != 784 (dim 0)"
     ]
    }
   ],
   "source": [
    "hidden_size = 64\n",
    "input_size = 28 * 28\n",
    "output_size = 10\n",
    "\n",
    "layers = [Dense(input_size=input_size, output_size=hidden_size, activation_function=ai_helpers.ActivationFunctions.relu), \n",
    "           Dense(input_size=hidden_size, output_size=output_size, activation_function=ai_helpers.ActivationFunctions.softmax)]\n",
    "\n",
    "model = Model(input_size, hidden_size, output_size, layers)\n",
    "model.train(X_train, Y_train, epochs=10)"
   ]
  }
 ],
 "metadata": {
  "kernelspec": {
   "display_name": "Python 3",
   "language": "python",
   "name": "python3"
  },
  "language_info": {
   "codemirror_mode": {
    "name": "ipython",
    "version": 3
   },
   "file_extension": ".py",
   "mimetype": "text/x-python",
   "name": "python",
   "nbconvert_exporter": "python",
   "pygments_lexer": "ipython3",
   "version": "3.9.0"
  }
 },
 "nbformat": 4,
 "nbformat_minor": 2
}
