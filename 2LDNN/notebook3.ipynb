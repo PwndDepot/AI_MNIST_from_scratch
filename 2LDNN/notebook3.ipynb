{
 "cells": [
  {
   "cell_type": "code",
   "execution_count": 64,
   "metadata": {},
   "outputs": [],
   "source": [
    "import numpy as np\n",
    "from keras.datasets import mnist\n",
    "from keras.utils import to_categorical\n",
    "from sklearn.utils import shuffle\n",
    "import matplotlib.pyplot as plt"
   ]
  },
  {
   "cell_type": "code",
   "execution_count": 142,
   "metadata": {},
   "outputs": [
    {
     "name": "stdout",
     "output_type": "stream",
     "text": [
      "\n"
     ]
    }
   ],
   "source": [
    "#np.random.seed(6)\n",
    "\n",
    "(X_train, Y_train), (x_test, y_test) = mnist.load_data()\n",
    "X_train = X_train.astype('float32') / 255.0\n",
    "#X_train, X_test = X_train.reshape((784,)), x_test.reshape((784,))  # flatten data\n",
    "#X_train = X_train.reshape(X_train.shape[0], 1, 28 * 28)\n",
    "X_train, Y_train = shuffle(X_train, Y_train)\n",
    "X_train = X_train.reshape(X_train.shape[0], -1)\n",
    "print(\"\")"
   ]
  },
  {
   "cell_type": "code",
   "execution_count": 130,
   "metadata": {},
   "outputs": [
    {
     "data": {
      "image/png": "[encoded data removed]",
      "text/plain": [
       "<Figure size 600x600 with 4 Axes>"
      ]
     },
     "metadata": {},
     "output_type": "display_data"
    }
   ],
   "source": [
    "# must run previous cell block first before running this one again\n",
    "plt.figure(figsize=[6,6])\n",
    "for i in range(4):\n",
    "    plt.subplot(2,2,i+1)\n",
    "    plt.title(\"Label: %i\"%Y_train[i])\n",
    "    plt.imshow(X_train[i].reshape([28,28]),cmap='gray')\n",
    "\n",
    "Y_train = to_categorical(Y_train, num_classes=10)\n",
    "Y_train = Y_train.reshape(Y_train.shape[0], 10, 1)\n",
    "y_val = to_categorical(Y_train, num_classes=10)\n",
    "y_test = to_categorical(Y_train, num_classes=10)"
   ]
  },
  {
   "cell_type": "code",
   "execution_count": 121,
   "metadata": {},
   "outputs": [
    {
     "name": "stdout",
     "output_type": "stream",
     "text": [
      "(784, 10)\n"
     ]
    }
   ],
   "source": [
    "seed = 42\n",
    "low = -0.5\n",
    "high = 0.5\n",
    "\n",
    "rng = np.random.uniform(low, high, (784, 10))\n",
    "print(str(rng.shape))\n",
    "#rng.uniform(low, high, 784)\n"
   ]
  },
  {
   "cell_type": "code",
   "execution_count": 131,
   "metadata": {},
   "outputs": [],
   "source": [
    "class Model():  \n",
    "    def __init__(self, layers, epochs = 50):\n",
    "        self.layers = layers\n",
    "        self.epochs = epochs\n",
    "\n",
    "    def forward_propagate(self, input_data):\n",
    "        output_layer1 = self.layers[0].forward_propagate(input_data)\n",
    "        activated_output_layer1 = self.relu(output_layer1)\n",
    "        output_layer2 = self.layers[1].forward_propagate(activated_output_layer1)\n",
    "        activated_output_layer2 = self.softmax(output_layer2)\n",
    "        return activated_output_layer2\n",
    "\n",
    "    def relu(self, x):\n",
    "        return np.maximum(0, x)\n",
    "\n",
    "    def d_relu(self, x):\n",
    "        return (x > 0).astype(float)\n",
    "    \n",
    "    def softmax(self, input):\n",
    "        e = np.exp(input - input.max(axis=0, keepdims=True))\n",
    "        return e / e.sum(axis=0, keepdims=True)\n",
    "    \n",
    "    def mse_loss(self, y_true, y_pred):\n",
    "        diff = y_true - y_pred\n",
    "        return np.mean(diff**2)\n",
    "    \n",
    "    def mse_loss_grad(self, y_true, y_pred):\n",
    "        return 2*(y_pred-y_true)/y_pred.shape[1]\n",
    "    \n",
    "    def backward_propagate(self, output):\n",
    "        output_layer1 = self.layers[1].backward_propagate(output)\n",
    "        output_layer2 = self.layers[0].backward_propagate(output_layer1)\n",
    "        return output_layer2\n",
    "\n",
    "    \n",
    "    def train(self, X_train, Y_train):\n",
    "        for epoch in range(0, self.epochs):\n",
    "            total_loss = 0\n",
    "            for x, y in zip(X_train, Y_train.T):\n",
    "                y_pred = self.forward_propagate(x.T)\n",
    "\n",
    "                loss = self.mse_loss(y, y_pred)\n",
    "                total_loss += loss\n",
    "                \n",
    "                gradient = self.mse_loss_grad(y, y_pred)\n",
    "                gradient = self.backward_propagate(gradient)\n",
    "                \n",
    "            if epoch % 10 == 0:\n",
    "                print(\"Epoch\", epoch + 1, \"out of\", len(self.epochs), \"loss:\", total_loss / len(X_train))"
   ]
  },
  {
   "cell_type": "code",
   "execution_count": 184,
   "metadata": {},
   "outputs": [
    {
     "name": "stdout",
     "output_type": "stream",
     "text": [
      "[[-0.06458256 -0.13571497 -0.04435197 ...  0.03400916 -0.34996956\n",
      "   0.05201249]\n",
      " [-0.06458256 -0.13571497 -0.04435197 ...  0.03400916 -0.34996956\n",
      "   0.05201249]\n",
      " [-0.06458256 -0.13571497 -0.04435197 ...  0.03400916 -0.34996956\n",
      "   0.05201249]\n",
      " ...\n",
      " [-0.06458256 -0.13571497 -0.04435197 ...  0.03400916 -0.34996956\n",
      "   0.05201249]\n",
      " [-0.06458256 -0.13571497 -0.04435197 ...  0.03400916 -0.34996956\n",
      "   0.05201249]\n",
      " [-0.06458256 -0.13571497 -0.04435197 ...  0.03400916 -0.34996956\n",
      "   0.05201249]]\n",
      "(10, 128)\n"
     ]
    },
    {
     "ename": "ValueError",
     "evalue": "matmul: Input operand 1 has a mismatch in its core dimension 0, with gufunc signature (n?,k),(k,m?)->(n?,m?) (size 10 is different from 1)",
     "output_type": "error",
     "traceback": [
      "\u001b[1;31m---------------------------------------------------------------------------\u001b[0m",
      "\u001b[1;31mValueError\u001b[0m                                Traceback (most recent call last)",
      "\u001b[1;32mc:\\Users\\travi\\Dropbox\\Notes\\School\\Artificial Neural Networks\\HW2_python_attempt\\2LDNN\\notebook3.ipynb Cell 6\u001b[0m line \u001b[0;36m9\n\u001b[0;32m     <a href='vscode-notebook-cell:/c%3A/Users/travi/Dropbox/Notes/School/Artificial%20Neural%20Networks/HW2_python_attempt/2LDNN/notebook3.ipynb#W5sZmlsZQ%3D%3D?line=95'>96</a>\u001b[0m layer2 \u001b[39m=\u001b[39m Dense(\u001b[39m128\u001b[39m, \u001b[39m10\u001b[39m)\n\u001b[0;32m     <a href='vscode-notebook-cell:/c%3A/Users/travi/Dropbox/Notes/School/Artificial%20Neural%20Networks/HW2_python_attempt/2LDNN/notebook3.ipynb#W5sZmlsZQ%3D%3D?line=96'>97</a>\u001b[0m model \u001b[39m=\u001b[39m Model([layer1, layer2])\n\u001b[1;32m---> <a href='vscode-notebook-cell:/c%3A/Users/travi/Dropbox/Notes/School/Artificial%20Neural%20Networks/HW2_python_attempt/2LDNN/notebook3.ipynb#W5sZmlsZQ%3D%3D?line=97'>98</a>\u001b[0m model\u001b[39m.\u001b[39;49mtrain(X_train, Y_train)\n",
      "\u001b[1;32mc:\\Users\\travi\\Dropbox\\Notes\\School\\Artificial Neural Networks\\HW2_python_attempt\\2LDNN\\notebook3.ipynb Cell 6\u001b[0m line \u001b[0;36m4\n\u001b[0;32m     <a href='vscode-notebook-cell:/c%3A/Users/travi/Dropbox/Notes/School/Artificial%20Neural%20Networks/HW2_python_attempt/2LDNN/notebook3.ipynb#W5sZmlsZQ%3D%3D?line=45'>46</a>\u001b[0m     loss \u001b[39m=\u001b[39m \u001b[39mself\u001b[39m\u001b[39m.\u001b[39mmse_loss(y, y_pred)\n\u001b[0;32m     <a href='vscode-notebook-cell:/c%3A/Users/travi/Dropbox/Notes/School/Artificial%20Neural%20Networks/HW2_python_attempt/2LDNN/notebook3.ipynb#W5sZmlsZQ%3D%3D?line=46'>47</a>\u001b[0m     total_loss \u001b[39m+\u001b[39m\u001b[39m=\u001b[39m loss\n\u001b[1;32m---> <a href='vscode-notebook-cell:/c%3A/Users/travi/Dropbox/Notes/School/Artificial%20Neural%20Networks/HW2_python_attempt/2LDNN/notebook3.ipynb#W5sZmlsZQ%3D%3D?line=47'>48</a>\u001b[0m     \u001b[39mself\u001b[39;49m\u001b[39m.\u001b[39;49mbackward_propagate(y, y_pred)\n\u001b[0;32m     <a href='vscode-notebook-cell:/c%3A/Users/travi/Dropbox/Notes/School/Artificial%20Neural%20Networks/HW2_python_attempt/2LDNN/notebook3.ipynb#W5sZmlsZQ%3D%3D?line=48'>49</a>\u001b[0m \u001b[39mif\u001b[39;00m epoch \u001b[39m%\u001b[39m \u001b[39m10\u001b[39m \u001b[39m==\u001b[39m \u001b[39m0\u001b[39m:\n\u001b[0;32m     <a href='vscode-notebook-cell:/c%3A/Users/travi/Dropbox/Notes/School/Artificial%20Neural%20Networks/HW2_python_attempt/2LDNN/notebook3.ipynb#W5sZmlsZQ%3D%3D?line=49'>50</a>\u001b[0m     \u001b[39mprint\u001b[39m(\u001b[39mf\u001b[39m\u001b[39m\"\u001b[39m\u001b[39mEpoch \u001b[39m\u001b[39m{\u001b[39;00mepoch\u001b[39m \u001b[39m\u001b[39m+\u001b[39m\u001b[39m \u001b[39m\u001b[39m1\u001b[39m\u001b[39m}\u001b[39;00m\u001b[39m out of \u001b[39m\u001b[39m{\u001b[39;00m\u001b[39mself\u001b[39m\u001b[39m.\u001b[39mepochs\u001b[39m}\u001b[39;00m\u001b[39m, loss: \u001b[39m\u001b[39m{\u001b[39;00mtotal_loss\u001b[39m \u001b[39m\u001b[39m/\u001b[39m\u001b[39m \u001b[39m\u001b[39mlen\u001b[39m(X_train)\u001b[39m}\u001b[39;00m\u001b[39m\"\u001b[39m)\n",
      "\u001b[1;32mc:\\Users\\travi\\Dropbox\\Notes\\School\\Artificial Neural Networks\\HW2_python_attempt\\2LDNN\\notebook3.ipynb Cell 6\u001b[0m line \u001b[0;36m3\n\u001b[0;32m     <a href='vscode-notebook-cell:/c%3A/Users/travi/Dropbox/Notes/School/Artificial%20Neural%20Networks/HW2_python_attempt/2LDNN/notebook3.ipynb#W5sZmlsZQ%3D%3D?line=31'>32</a>\u001b[0m bprop_input_value \u001b[39m=\u001b[39m \u001b[39mself\u001b[39m\u001b[39m.\u001b[39mmse_loss_grad(y_true, y_pred)\n\u001b[0;32m     <a href='vscode-notebook-cell:/c%3A/Users/travi/Dropbox/Notes/School/Artificial%20Neural%20Networks/HW2_python_attempt/2LDNN/notebook3.ipynb#W5sZmlsZQ%3D%3D?line=32'>33</a>\u001b[0m \u001b[39mfor\u001b[39;00m layer \u001b[39min\u001b[39;00m \u001b[39mreversed\u001b[39m(\u001b[39mself\u001b[39m\u001b[39m.\u001b[39mlayers):\n\u001b[1;32m---> <a href='vscode-notebook-cell:/c%3A/Users/travi/Dropbox/Notes/School/Artificial%20Neural%20Networks/HW2_python_attempt/2LDNN/notebook3.ipynb#W5sZmlsZQ%3D%3D?line=33'>34</a>\u001b[0m     bprop_input_value \u001b[39m=\u001b[39m layer\u001b[39m.\u001b[39;49mbackward_propagate(bprop_input_value, learning_rate)\n\u001b[0;32m     <a href='vscode-notebook-cell:/c%3A/Users/travi/Dropbox/Notes/School/Artificial%20Neural%20Networks/HW2_python_attempt/2LDNN/notebook3.ipynb#W5sZmlsZQ%3D%3D?line=34'>35</a>\u001b[0m     \u001b[39mprint\u001b[39m(bprop_input_value)\n\u001b[0;32m     <a href='vscode-notebook-cell:/c%3A/Users/travi/Dropbox/Notes/School/Artificial%20Neural%20Networks/HW2_python_attempt/2LDNN/notebook3.ipynb#W5sZmlsZQ%3D%3D?line=35'>36</a>\u001b[0m     \u001b[39mprint\u001b[39m(bprop_input_value\u001b[39m.\u001b[39mshape)\n",
      "\u001b[1;32mc:\\Users\\travi\\Dropbox\\Notes\\School\\Artificial Neural Networks\\HW2_python_attempt\\2LDNN\\notebook3.ipynb Cell 6\u001b[0m line \u001b[0;36m8\n\u001b[0;32m     <a href='vscode-notebook-cell:/c%3A/Users/travi/Dropbox/Notes/School/Artificial%20Neural%20Networks/HW2_python_attempt/2LDNN/notebook3.ipynb#W5sZmlsZQ%3D%3D?line=82'>83</a>\u001b[0m \u001b[39mdef\u001b[39;00m \u001b[39mbackward_propagate\u001b[39m(\u001b[39mself\u001b[39m, output_gradient, learning_rate\u001b[39m=\u001b[39m\u001b[39m0.01\u001b[39m):\n\u001b[1;32m---> <a href='vscode-notebook-cell:/c%3A/Users/travi/Dropbox/Notes/School/Artificial%20Neural%20Networks/HW2_python_attempt/2LDNN/notebook3.ipynb#W5sZmlsZQ%3D%3D?line=83'>84</a>\u001b[0m     weights_gradient \u001b[39m=\u001b[39m \u001b[39mself\u001b[39;49m\u001b[39m.\u001b[39;49minput\u001b[39m.\u001b[39;49mT \u001b[39m@\u001b[39;49m output_gradient\n\u001b[0;32m     <a href='vscode-notebook-cell:/c%3A/Users/travi/Dropbox/Notes/School/Artificial%20Neural%20Networks/HW2_python_attempt/2LDNN/notebook3.ipynb#W5sZmlsZQ%3D%3D?line=84'>85</a>\u001b[0m     input_gradient \u001b[39m=\u001b[39m output_gradient \u001b[39m@\u001b[39m \u001b[39mself\u001b[39m\u001b[39m.\u001b[39mweights\u001b[39m.\u001b[39mT\n\u001b[0;32m     <a href='vscode-notebook-cell:/c%3A/Users/travi/Dropbox/Notes/School/Artificial%20Neural%20Networks/HW2_python_attempt/2LDNN/notebook3.ipynb#W5sZmlsZQ%3D%3D?line=85'>86</a>\u001b[0m     \u001b[39mself\u001b[39m\u001b[39m.\u001b[39mweights \u001b[39m-\u001b[39m\u001b[39m=\u001b[39m learning_rate \u001b[39m*\u001b[39m weights_gradient\n",
      "\u001b[1;31mValueError\u001b[0m: matmul: Input operand 1 has a mismatch in its core dimension 0, with gufunc signature (n?,k),(k,m?)->(n?,m?) (size 10 is different from 1)"
     ]
    }
   ],
   "source": [
    "class Model():  \n",
    "    def __init__(self, layers, epochs = 50):\n",
    "        self.layers = layers\n",
    "        self.epochs = epochs\n",
    "        self.input = None\n",
    "\n",
    "    def forward_propagate(self, input_data):\n",
    "        output_layer1 = self.layers[0].forward_propagate(input_data)\n",
    "        activated_output_layer1 = self.relu(output_layer1)\n",
    "        output_layer2 = self.layers[1].forward_propagate(activated_output_layer1)\n",
    "        activated_output_layer2 = self.softmax(output_layer2)\n",
    "        return activated_output_layer2\n",
    "\n",
    "    def relu(self, x):\n",
    "        return np.maximum(0, x)\n",
    "\n",
    "    def d_relu(self, x):\n",
    "        return (x > 0).astype(float)\n",
    "    \n",
    "    def softmax(self, input):\n",
    "        e = np.exp(input - input.max(axis=0, keepdims=True))\n",
    "        return e / e.sum(axis=0, keepdims=True)\n",
    "    \n",
    "    def mse_loss(self, y_true, y_pred):\n",
    "        diff = y_true - y_pred\n",
    "        return np.mean(diff**2)\n",
    "\n",
    "    def mse_loss_grad(self, y_true, y_pred):\n",
    "        return 2*(y_pred-y_true)/y_pred.shape[1]\n",
    "\n",
    "    def backward_propagate(self, y_true, y_pred, learning_rate=0.01):\n",
    "        bprop_input_value = self.mse_loss_grad(y_true, y_pred)\n",
    "        for layer in reversed(self.layers):\n",
    "            bprop_input_value = layer.backward_propagate(bprop_input_value, learning_rate)\n",
    "        return bprop_input_value\n",
    "\n",
    "    def train(self, X_train, Y_train):\n",
    "        assert len(X_train) == len(Y_train), \"Length of X_train and Y_train should be equal!\"\n",
    "        for epoch in range(self.epochs):\n",
    "            total_loss = 0\n",
    "            for x, y in zip(X_train, Y_train):\n",
    "                x = x.reshape(1, x.shape[0])\n",
    "                y_pred = self.forward_propagate(x)\n",
    "                loss = self.mse_loss(y, y_pred)\n",
    "                total_loss += loss\n",
    "                self.backward_propagate(y, y_pred)\n",
    "            if epoch % 10 == 0:\n",
    "                print(f\"Epoch {epoch + 1} out of {self.epochs}, loss: {total_loss / len(X_train)}\")\n",
    "\n",
    "\n",
    "class Dense():\n",
    "    def __init__(self, m_input_size, n_output_size):\n",
    "        self.input_size = m_input_size\n",
    "        self.output_size = n_output_size\n",
    "        self.input = None\n",
    "        self.weights = np.random.uniform(-0.5, 0.5, (self.input_size, self.output_size))\n",
    "        self.biases = np.zeros((1, output_size))\n",
    "\n",
    "    def forward_propagate(self, input_data):\n",
    "        self.input = input_data\n",
    "        self.output = np.dot(input_data, self.weights) + self.biases.T\n",
    "        return self.output\n",
    "\n",
    "    \"\"\" def backward_propagate(self, output_gradient, learning_rate=0.01):\n",
    "        weights_gradient = np.dot(output_gradient, self.input)\n",
    "        input_gradient = np.dot(self.weights, output_gradient)\n",
    "        self.weights -= learning_rate * weights_gradient.T\n",
    "        biases_transposed = self.biases.T\n",
    "        self.biases = biases_transposed - (learning_rate * output_gradient)\n",
    "        return input_gradient \"\"\"\n",
    "    \n",
    "    \"\"\" def backward_propagate(self, output_gradient, learning_rate=0.01):\n",
    "        weights_gradient = np.dot(self.input.T, output_gradient)\n",
    "        input_gradient = np.dot(output_gradient, self.weights.T)\n",
    "        self.weights -= learning_rate * weights_gradient\n",
    "        biases_gradient = np.sum(output_gradient, axis=0)\n",
    "        biases_transposed = self.biases.T\n",
    "        self.biases = biases_transposed - (learning_rate * biases_gradient)\n",
    "        return input_gradient \"\"\"\n",
    "    \n",
    "    def backward_propagate(self, output_gradient, learning_rate=0.01):\n",
    "        weights_gradient = self.input.T @ output_gradient\n",
    "        input_gradient = output_gradient @ self.weights.T\n",
    "        self.weights -= learning_rate * weights_gradient\n",
    "        self.biases -= learning_rate * np.sum(output_gradient, axis=0, keepdims=True)\n",
    "        return input_gradient\n",
    "\n",
    "\n",
    "input_size = 28 * 28\n",
    "hidden_size = 128\n",
    "output_size = 10\n",
    "\n",
    "layer1 = Dense(784, 128)\n",
    "layer2 = Dense(128, 10)\n",
    "model = Model([layer1, layer2])\n",
    "model.train(X_train, Y_train)"
   ]
  }
 ],
 "metadata": {
  "kernelspec": {
   "display_name": "Python 3",
   "language": "python",
   "name": "python3"
  },
  "language_info": {
   "codemirror_mode": {
    "name": "ipython",
    "version": 3
   },
   "file_extension": ".py",
   "mimetype": "text/x-python",
   "name": "python",
   "nbconvert_exporter": "python",
   "pygments_lexer": "ipython3",
   "version": "3.9.0"
  }
 },
 "nbformat": 4,
 "nbformat_minor": 2
}
